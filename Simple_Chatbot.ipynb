{
 "cells": [
  {
   "cell_type": "code",
   "execution_count": 5,
   "id": "9fffeacd-cf55-4f9d-beb8-7cd8fc9f632b",
   "metadata": {},
   "outputs": [],
   "source": [
    "import warnings\n",
    "import numpy as np\n",
    "import time\n",
    "import os\n",
    "from transformers import AutoModelForCausalLM, AutoTokenizer\n",
    "import torch"
   ]
  },
  {
   "cell_type": "code",
   "execution_count": 6,
   "id": "43e55399-46ea-47b6-9873-6109ce2c66aa",
   "metadata": {},
   "outputs": [],
   "source": [
    "checkpoint = \"microsoft/DialoGPT-medium\"\n",
    "# download and cache tokenizer\n",
    "tokenizer = AutoTokenizer.from_pretrained(checkpoint)\n",
    "# download and cache pre-trained model\n",
    "model = AutoModelForCausalLM.from_pretrained(checkpoint)"
   ]
  },
  {
   "cell_type": "code",
   "execution_count": 8,
   "id": "884de2ca-d0e4-4a0e-8b99-c3d8cc3a1e3c",
   "metadata": {},
   "outputs": [
    {
     "name": "stdout",
     "output_type": "stream",
     "text": [
      "Initializing ChatBot ...\n",
      "Type \"bye\" or \"quit\" or \"exit\" to end chat \n",
      "\n",
      "CleanBot >>  Welcome to CleanBot! I can help you book an appointment for a cleaning service.\n"
     ]
    },
    {
     "name": "stdin",
     "output_type": "stream",
     "text": [
      "User    >>  book an appointment\n",
      "User    >>  11:00 AM - 12:00 PM\n"
     ]
    },
    {
     "name": "stdout",
     "output_type": "stream",
     "text": [
      "CleanBot >>  Your appointment is booked for 11:00 AM - 12:00 PM.\n"
     ]
    },
    {
     "name": "stdin",
     "output_type": "stream",
     "text": [
      "User    >>  cancel appointment\n",
      "User    >>  11:00 AM - 12:00 PM\n"
     ]
    },
    {
     "name": "stdout",
     "output_type": "stream",
     "text": [
      "CleanBot >>  Your appointment for 11:00 AM - 12:00 PM has been cancelled.\n"
     ]
    },
    {
     "name": "stdin",
     "output_type": "stream",
     "text": [
      "User    >>  bye\n"
     ]
    },
    {
     "name": "stdout",
     "output_type": "stream",
     "text": [
      "CleanBot >>  See you soon! Bye!\n",
      "\n",
      "Quitting ChatBot ...\n"
     ]
    }
   ],
   "source": [
    "# Import necessary libraries\n",
    "import numpy as np\n",
    "import time\n",
    "import os\n",
    "from transformers import AutoModelForCausalLM, AutoTokenizer\n",
    "import torch\n",
    "\n",
    "# Download Microsoft's DialoGPT model and tokenizer\n",
    "checkpoint = \"microsoft/DialoGPT-medium\"\n",
    "tokenizer = AutoTokenizer.from_pretrained(checkpoint)\n",
    "model = AutoModelForCausalLM.from_pretrained(checkpoint)\n",
    "\n",
    "# Predefined schedule for appointments\n",
    "available_slots = [\n",
    "    \"9:00 AM - 10:00 AM\",\n",
    "    \"11:00 AM - 12:00 PM\",\n",
    "    \"1:00 PM - 2:00 PM\",\n",
    "    \"3:00 PM - 4:00 PM\"\n",
    "]\n",
    "\n",
    "# Track booked appointments\n",
    "appointments = []\n",
    "\n",
    "class ChatBot():\n",
    "    def __init__(self):\n",
    "        self.chat_history_ids = None\n",
    "        self.bot_input_ids = None\n",
    "        self.end_chat = False\n",
    "        self.welcome()\n",
    "\n",
    "    def welcome(self):\n",
    "        print(\"Initializing ChatBot ...\")\n",
    "        time.sleep(2)\n",
    "        print('Type \"bye\" or \"quit\" or \"exit\" to end chat \\n')\n",
    "        time.sleep(3)\n",
    "        greeting = \"Welcome to CleanBot! I can help you book an appointment for a cleaning service.\"\n",
    "        print(\"CleanBot >>  \" + greeting)\n",
    "\n",
    "    def user_input(self):\n",
    "        text = input(\"User    >> \")\n",
    "        if text.lower().strip() in ['bye', 'quit', 'exit']:\n",
    "            self.end_chat = True\n",
    "            print('CleanBot >>  See you soon! Bye!')\n",
    "            time.sleep(1)\n",
    "            print('\\nQuitting ChatBot ...')\n",
    "        else:\n",
    "            self.new_user_input_ids = tokenizer.encode(text + tokenizer.eos_token, return_tensors='pt')\n",
    "            return text\n",
    "\n",
    "    def bot_response(self, user_query):\n",
    "        if \"book\" in user_query.lower():\n",
    "            response = self.handle_booking()\n",
    "        elif \"available slots\" in user_query.lower():\n",
    "            response = self.show_available_slots()\n",
    "        elif \"cancel\" in user_query.lower():\n",
    "            response = self.cancel_appointment()\n",
    "        else:\n",
    "            response = \"I'm sorry, I can help you book an appointment. Please ask about available slots or book a new appointment.\"\n",
    "        \n",
    "        print('CleanBot >>  ' + response)\n",
    "\n",
    "    def handle_booking(self):\n",
    "        if not available_slots:\n",
    "            return \"Sorry, there are no available slots for today.\"\n",
    "\n",
    "        response = \"Here are the available slots for today:\\n\" + \"\\n\".join(available_slots)\n",
    "        response += \"\\nPlease choose a slot to book.\"\n",
    "        slot = input(\"User    >> \").strip()\n",
    "        if slot in available_slots:\n",
    "            available_slots.remove(slot)\n",
    "            appointments.append(slot)\n",
    "            return f\"Your appointment is booked for {slot}.\"\n",
    "        else:\n",
    "            return \"Sorry, that slot is not available. Please choose another slot.\"\n",
    "\n",
    "    def show_available_slots(self):\n",
    "        if not available_slots:\n",
    "            return \"No slots are available for today.\"\n",
    "        return \"Available slots:\\n\" + \"\\n\".join(available_slots)\n",
    "\n",
    "    def cancel_appointment(self):\n",
    "        if not appointments:\n",
    "            return \"You have no appointments to cancel.\"\n",
    "        \n",
    "        response = \"Your current appointments:\\n\" + \"\\n\".join(appointments)\n",
    "        response += \"\\nPlease specify the slot you want to cancel.\"\n",
    "        slot = input(\"User    >> \").strip()\n",
    "        if slot in appointments:\n",
    "            appointments.remove(slot)\n",
    "            available_slots.append(slot)\n",
    "            available_slots.sort()\n",
    "            return f\"Your appointment for {slot} has been cancelled.\"\n",
    "        else:\n",
    "            return \"You don't have an appointment for that slot.\"\n",
    "\n",
    "# Initialize and run the chatbot\n",
    "bot = ChatBot()\n",
    "while True:\n",
    "    user_query = bot.user_input()\n",
    "    if bot.end_chat:\n",
    "        break\n",
    "    bot.bot_response(user_query)\n",
    "\n",
    "# Happy Chatting!\n"
   ]
  },
  {
   "cell_type": "code",
   "execution_count": 4,
   "id": "31cc1b08-f55e-4e3d-aa9e-d9f92f3ee9d2",
   "metadata": {},
   "outputs": [
    {
     "name": "stdout",
     "output_type": "stream",
     "text": [
      "Initializing ChatBot ...\n",
      "Type \"bye\" or \"quit\" or \"exit\" to end chat \n",
      "\n",
      "ChatBot >>  Hi, I am a ChatBot. Let's chat!\n"
     ]
    },
    {
     "name": "stdin",
     "output_type": "stream",
     "text": [
      "User    >>  hi\n"
     ]
    },
    {
     "name": "stdout",
     "output_type": "stream",
     "text": [
      "ChatBot >>  Hey! :D\n"
     ]
    },
    {
     "name": "stdin",
     "output_type": "stream",
     "text": [
      "User    >>  whats the day today\n"
     ]
    },
    {
     "name": "stdout",
     "output_type": "stream",
     "text": [
      "ChatBot >>  I'm not sure, but I think it's the day after the day after tomorrow.\n"
     ]
    },
    {
     "name": "stdin",
     "output_type": "stream",
     "text": [
      "User    >>  what is your skill\n"
     ]
    },
    {
     "name": "stdout",
     "output_type": "stream",
     "text": [
      "ChatBot >>  I'm a programmer.\n"
     ]
    },
    {
     "name": "stdin",
     "output_type": "stream",
     "text": [
      "User    >>  programmer in?\n"
     ]
    },
    {
     "name": "stdout",
     "output_type": "stream",
     "text": [
      "ChatBot >>  Programmer in what?\n"
     ]
    },
    {
     "name": "stdin",
     "output_type": "stream",
     "text": [
      "User    >>  what languages\n"
     ]
    },
    {
     "name": "stdout",
     "output_type": "stream",
     "text": [
      "ChatBot >>  Programmer in what languages?\n"
     ]
    },
    {
     "name": "stdin",
     "output_type": "stream",
     "text": [
      "User    >>  c or java\n"
     ]
    },
    {
     "name": "stdout",
     "output_type": "stream",
     "text": [
      "ChatBot >>  I'm a programmer in Java.\n"
     ]
    },
    {
     "name": "stdin",
     "output_type": "stream",
     "text": [
      "User    >>  nice\n"
     ]
    },
    {
     "name": "stdout",
     "output_type": "stream",
     "text": [
      "ChatBot >>  I'm a programmer in Java.\n"
     ]
    },
    {
     "name": "stdin",
     "output_type": "stream",
     "text": [
      "User    >>  ok\n"
     ]
    },
    {
     "name": "stdout",
     "output_type": "stream",
     "text": [
      "ChatBot >>  I'm a programmer in Java.\n"
     ]
    },
    {
     "name": "stdin",
     "output_type": "stream",
     "text": [
      "User    >>  bye\n"
     ]
    },
    {
     "name": "stdout",
     "output_type": "stream",
     "text": [
      "ChatBot >>  See you soon! Bye!\n",
      "\n",
      "Quitting ChatBot ...\n"
     ]
    }
   ],
   "source": [
    "# build a ChatBot object\n",
    "bot = ChatBot()\n",
    "# start chatting\n",
    "while True:\n",
    "    # receive user input\n",
    "    bot.user_input()\n",
    "    # check whether to end chat\n",
    "    if bot.end_chat:\n",
    "        break\n",
    "    # output bot response\n",
    "    bot.bot_response()    "
   ]
  },
  {
   "cell_type": "code",
   "execution_count": null,
   "id": "ed79c7af-976a-4157-b1ef-ea80233f1ce9",
   "metadata": {},
   "outputs": [],
   "source": []
  }
 ],
 "metadata": {
  "kernelspec": {
   "display_name": "Python 3 (ipykernel)",
   "language": "python",
   "name": "python3"
  },
  "language_info": {
   "codemirror_mode": {
    "name": "ipython",
    "version": 3
   },
   "file_extension": ".py",
   "mimetype": "text/x-python",
   "name": "python",
   "nbconvert_exporter": "python",
   "pygments_lexer": "ipython3",
   "version": "3.11.4"
  }
 },
 "nbformat": 4,
 "nbformat_minor": 5
}
